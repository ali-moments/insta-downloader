{
 "cells": [
  {
   "cell_type": "markdown",
   "id": "ad6702b6",
   "metadata": {},
   "source": [
    "# Web Scraping Instagram with python\n",
    "\n",
    "### AUTOMATING IMAGE EXTRACTION\n",
    "\n",
    "you can download **top instagram photos** for a **hashtag** using this code.\n",
    "\n",
    "#### requirements:\n",
    " - selenium and wget libraries: `pip install selenium wget`\n",
    " - builtin os, time, and getpass libraries\n",
    " - driver for browser you use\n",
    "\n",
    "##### Notice:\n",
    "> I put three types of code for the three most used browsers so you should change the code relative to the browser you are using."
   ]
  },
  {
   "cell_type": "code",
   "execution_count": 1,
   "id": "5939cf49",
   "metadata": {},
   "outputs": [],
   "source": [
    "from selenium import webdriver\n",
    "from selenium.webdriver.common.keys import Keys\n",
    "from selenium.webdriver.support import expected_conditions as EC\n",
    "from selenium.webdriver.common.by import By\n",
    "from selenium.webdriver.support.wait import WebDriverWait\n",
    "from getpass import getuser, getpass\n",
    "import time, os, wget"
   ]
  },
  {
   "cell_type": "markdown",
   "id": "50069e4e",
   "metadata": {},
   "source": [
    "### Download driver for browser you use\n",
    "\n",
    "- just search `download driver for [browser name]` and download it.\n",
    "- extract them to any where you want.\n",
    "- add their path here\n",
    "\n",
    "##### Notice:\n",
    "> you can just add driver to PATH and then you wont need add their path here<br/>\n",
    "> so you can open a new window using `driver = webdriver.[browser]()` and not specifying `driver_path` into code.\n",
    "\n",
    "you need to login into an account"
   ]
  },
  {
   "cell_type": "code",
   "execution_count": 2,
   "id": "c14bd00a",
   "metadata": {},
   "outputs": [
    {
     "name": "stdout",
     "output_type": "stream",
     "text": [
      "Enter username: mr.azaryazdi\n",
      "Enter password: ········\n",
      "Enter tag: cat\n"
     ]
    }
   ],
   "source": [
    "username = getuser()\n",
    "ig_user = input(\"Enter username: \")\n",
    "ig_pass = getpass(prompt=\"Enter password: \")\n",
    "hashtag = \"#\" + input(\"Enter tag: \").replace(\"#\",\" \").strip().replace(\" \",\"_\").replace(\"-\",\"_\")\n",
    "\n",
    "# Brave browser\n",
    "chromedriver_path = f\"/home/{username}/Documents/chromedriver_linux64/chromedriver\"\n",
    "brave_path = \"/usr/bin/brave-browser\"\n",
    "\n",
    "# Firefox browser\n",
    "#firefoxdriver_path = f\"/home/{username}/Documents/geckodriver-linux64/geckodriver\"\n",
    "\n",
    "# Chrome browser\n",
    "#chromedriver_path = f\"/home/{username}/Documents/chromedriver_linux64/chromedriver\""
   ]
  },
  {
   "cell_type": "markdown",
   "id": "31329d2e",
   "metadata": {},
   "source": [
    "### Open browser window"
   ]
  },
  {
   "cell_type": "code",
   "execution_count": 3,
   "id": "d08151c0",
   "metadata": {},
   "outputs": [],
   "source": [
    "# Brave Browser\n",
    "option = webdriver.ChromeOptions()\n",
    "option.binary_location = brave_path\n",
    "option.add_argument(\"--incognito\")\n",
    "driver = webdriver.Chrome(executable_path=chromedriver_path, options=option)\n",
    "\n",
    "\n",
    "# Firefox Browser\n",
    "#driver = webdriver.Firefox(executable_path=firefoxdriver_path)\n",
    "\n",
    "\n",
    "# Chrome Browser\n",
    "#driver = webdriver.Firefox(executable_path=chromedriver_path)"
   ]
  },
  {
   "cell_type": "markdown",
   "id": "06d9f5e6",
   "metadata": {},
   "source": [
    "### Login to Instagram account\n",
    "\n",
    "1. open instagram webpage.\n",
    "2. click accept cookies button (comment cookies line if not exist)\n",
    "3. target the username and password input fields.\n",
    "4. enter username and password.\n",
    "5. click login button.\n",
    "</br>\n",
    "\n",
    "##### screenshot\n",
    "\n",
    "<img src=\"screenshots/cookies.png\" alt=\"cookies screenshot\" width=\"550px\" height=\"170px\" \n",
    "     style=\"float: left;\"/></br>\n",
    "     "
   ]
  },
  {
   "cell_type": "code",
   "execution_count": 4,
   "id": "e3ae0b42",
   "metadata": {},
   "outputs": [],
   "source": [
    "driver.get(\"http://www.instagram.com/\")\n",
    "\n",
    "cookies = WebDriverWait(driver, 15).until(EC.element_to_be_clickable(\n",
    "    (By.XPATH, '//button[contains(text(), \"Accept All\")]'))).click()\n",
    "\n",
    "username = WebDriverWait(driver, 10).until(EC.element_to_be_clickable(\n",
    "    (By.CSS_SELECTOR, \"input[name='username']\")))\n",
    "\n",
    "password = WebDriverWait(driver, 10).until(EC.element_to_be_clickable(\n",
    "    (By.CSS_SELECTOR, \"input[name='password']\")))\n",
    "\n",
    "username.clear()\n",
    "username.send_keys(ig_user)\n",
    "password.clear()\n",
    "password.send_keys(ig_pass)\n",
    "\n",
    "try:\n",
    "    button = WebDriverWait(driver, 2).until(EC.element_to_be_clickable(\n",
    "        (By.CSS_SELECTOR, \"button[type='submit']\"))).click()\n",
    "except:\n",
    "    button2 = WebDriverWait(driver, 15).until(EC.element_to_be_clickable(\n",
    "        (By.XPATH, '//div[contains(text(), \"Log In\")]'))).click()"
   ]
  },
  {
   "cell_type": "markdown",
   "id": "3714918c",
   "metadata": {},
   "source": [
    "### Handle alerts\n",
    "\n",
    "you might only get a single alert, or you might get 2 of them.\n",
    " - save your login info?\n",
    " - turn on notification\n",
    " \n",
    "you should adjust the code below accordingly\n",
    "\n",
    "<img src=\"screenshots/saveinfo.png\" alt=\"save info screenshot\" width=\"350px\" height=\"170px\" \n",
    "     style=\"float: left; margin-right: 10px;\"/>\n",
    "     \n",
    "<img src=\"screenshots/notification.png\" alt=\"notification screenshot\" width=\"350px\" height=\"170px\" \n",
    "     style=\"float: left; margin-right: 10px;\"/></br></br>"
   ]
  },
  {
   "cell_type": "code",
   "execution_count": 5,
   "id": "b4c0d714",
   "metadata": {},
   "outputs": [],
   "source": [
    "time.sleep(5)\n",
    "save_info = WebDriverWait(driver, 15).until(EC.element_to_be_clickable(\n",
    "    (By.XPATH, '//button[contains(text(), \"Not Now\")]'))).click()\n",
    "\n",
    "notifications = WebDriverWait(driver, 15).until(EC.element_to_be_clickable(\n",
    "    (By.XPATH, '//button[contains(text(), \"Not Now\")]'))).click()\n"
   ]
  },
  {
   "cell_type": "markdown",
   "id": "b9d29f69",
   "metadata": {},
   "source": [
    "### Search for a certain hashtag\n",
    "\n",
    "1. target the searchbox input field and clear it\n",
    "2. hit enter\n",
    "\n",
    "##### Notice:\n",
    "> maybe there will be a problem for submiting the hashtag</br>\n",
    "> for fixing that enter the \"Enter\" twice."
   ]
  },
  {
   "cell_type": "code",
   "execution_count": 6,
   "id": "a23c4ab1",
   "metadata": {},
   "outputs": [],
   "source": [
    "searchbox = WebDriverWait(driver, 10).until(EC.element_to_be_clickable(\n",
    "    (By.XPATH, \"//input[@placeholder='Search']\")))\n",
    "searchbox.clear()\n",
    "searchbox.send_keys(hashtag)\n",
    " \n",
    "#FIXING THE DOUBLE ENTER\n",
    "time.sleep(5) # Wait for 5 seconds to let everything load correctly\n",
    "my_link = WebDriverWait(driver, 10).until(EC.element_to_be_clickable(\n",
    "    (By.XPATH, \"//a[contains(@href, '/\" + hashtag[1:] + \"/')]\"))).click()\n"
   ]
  },
  {
   "cell_type": "markdown",
   "id": "713c6259",
   "metadata": {},
   "source": [
    "### Scroll Down¶\n",
    "\n",
    "Increase `n_scrolls` to select more photos (depending on screen resolution)\n",
    "\n",
    "##### Example:\n",
    "- 2 scrolls cover approx. 35 photos\n",
    "- 3 scrolls cover approx. 45 photos"
   ]
  },
  {
   "cell_type": "code",
   "execution_count": 7,
   "id": "cae4d62c",
   "metadata": {},
   "outputs": [],
   "source": [
    "n_scrolls = 2\n",
    "for j in range(0, n_scrolls):\n",
    "    driver.execute_script(\"window.scrollTo(0, document.body.scrollHeight);\")\n",
    "    time.sleep(5)"
   ]
  },
  {
   "cell_type": "markdown",
   "id": "7cd32e48",
   "metadata": {},
   "source": [
    "### target all links elements on the page"
   ]
  },
  {
   "cell_type": "code",
   "execution_count": 8,
   "id": "d6cdfbf4",
   "metadata": {},
   "outputs": [
    {
     "name": "stdout",
     "output_type": "stream",
     "text": [
      "Found 51 links to images\n"
     ]
    }
   ],
   "source": [
    "anchors = driver.find_elements_by_tag_name('a')\n",
    "anchors = [a.get_attribute('href') for a in anchors]\n",
    "anchors = [a for a in anchors if str(a).startswith(\"https://www.instagram.com/p/\")]\n",
    "\n",
    "print('Found ' + str(len(anchors)) + ' links to images')\n"
   ]
  },
  {
   "cell_type": "code",
   "execution_count": 9,
   "id": "98745e3a",
   "metadata": {},
   "outputs": [
    {
     "name": "stdout",
     "output_type": "stream",
     "text": [
      "['https://www.instagram.com/p/CSRB5vQqODP/', 'https://www.instagram.com/p/CSRGq6vqbbD/', 'https://www.instagram.com/p/CSRYlMmJxt0/', 'https://www.instagram.com/p/CSRJfTLqktw/', 'https://www.instagram.com/p/CSROMqHqocd/']\n"
     ]
    }
   ],
   "source": [
    "print(anchors[:5])"
   ]
  },
  {
   "cell_type": "markdown",
   "id": "bd29722e",
   "metadata": {},
   "source": [
    "### Convert links of the posts to their direct links of the images "
   ]
  },
  {
   "cell_type": "code",
   "execution_count": 10,
   "id": "19697322",
   "metadata": {},
   "outputs": [],
   "source": [
    "images = []\n",
    "\n",
    "#follow each image link and extract only image at index=1\n",
    "for a in anchors:\n",
    "    driver.get(a)\n",
    "    time.sleep(5)\n",
    "    img = driver.find_elements_by_tag_name('img')\n",
    "    img = [i.get_attribute('src') for i in img]\n",
    "    images.append(img[1])\n",
    "    "
   ]
  },
  {
   "cell_type": "code",
   "execution_count": 11,
   "id": "11366318",
   "metadata": {},
   "outputs": [
    {
     "name": "stdout",
     "output_type": "stream",
     "text": [
      "['https://scontent-mxp1-1.cdninstagram.com/v/t51.2885-15/e35/p1080x1080/233664782_106435858338396_6541243200928988170_n.jpg?_nc_ht=scontent-mxp1-1.cdninstagram.com&_nc_cat=100&_nc_ohc=4D0RTAyInIMAX9Zwc44&tn=_n0mBMqImc0PqVKd&edm=AABBvjUBAAAA&ccb=7-4&oh=84c533e4e17254e6d829279415d3ca0c&oe=6115E6A8&_nc_sid=83d603', 'https://scontent-mxp1-1.cdninstagram.com/v/t51.2885-15/e35/s1080x1080/233664001_118328223771911_793040319641020613_n.jpg?_nc_ht=scontent-mxp1-1.cdninstagram.com&_nc_cat=111&_nc_ohc=5vqwR2xbabAAX_dYutH&edm=AABBvjUBAAAA&ccb=7-4&oh=2601e9b9104d3c4c58fc7315319b45f7&oe=6115890B&_nc_sid=83d603', 'https://scontent-mxp1-1.cdninstagram.com/v/t51.2885-19/s150x150/222791783_3992569747522537_1581201377043246540_n.jpg?_nc_ht=scontent-mxp1-1.cdninstagram.com&_nc_ohc=Q2plnFZfl6kAX-fJ614&edm=AABBvjUBAAAA&ccb=7-4&oh=31380b5e8240378ccb8a1aa5e05c7a00&oe=6116459F&_nc_sid=83d603', 'https://scontent-mxp1-1.cdninstagram.com/v/t51.2885-15/e35/s1080x1080/234036186_352228559639175_7545262275618375141_n.jpg?_nc_ht=scontent-mxp1-1.cdninstagram.com&_nc_cat=103&_nc_ohc=dVqN-4JFK0kAX8G_mA4&edm=AABBvjUBAAAA&ccb=7-4&oh=0094ca133fe68e54dcb2de6e5338b533&oe=611519B0&_nc_sid=83d603', 'https://scontent-mxp1-1.cdninstagram.com/v/t51.2885-15/e35/p1080x1080/234139347_574397313593858_1279168334984311620_n.jpg?_nc_ht=scontent-mxp1-1.cdninstagram.com&_nc_cat=102&_nc_ohc=NSOVNOhIyKwAX-LyaM9&edm=AABBvjUBAAAA&ccb=7-4&oh=9abbc663c32d2263b85b5339241b11cf&oe=6115C23F&_nc_sid=83d603']\n"
     ]
    }
   ],
   "source": [
    "print(images[:5])"
   ]
  },
  {
   "cell_type": "markdown",
   "id": "62f23b8d",
   "metadata": {},
   "source": [
    "### Save images to computer\n",
    "\n",
    "create a new folder for our images somewhere on our computer.\n",
    "Then, download and save all the images there."
   ]
  },
  {
   "cell_type": "code",
   "execution_count": 12,
   "id": "d1fcbe08",
   "metadata": {},
   "outputs": [],
   "source": [
    "path = os.getcwd()\n",
    "path = os.path.join(path, hashtag[1:])\n",
    "os.mkdir(path)"
   ]
  },
  {
   "cell_type": "code",
   "execution_count": 13,
   "id": "9545da71",
   "metadata": {},
   "outputs": [
    {
     "name": "stdout",
     "output_type": "stream",
     "text": [
      "/home/ali/MyJupyterNoteBooks/cat\n"
     ]
    }
   ],
   "source": [
    "print(path)"
   ]
  },
  {
   "cell_type": "code",
   "execution_count": 14,
   "id": "34f7aaa8",
   "metadata": {},
   "outputs": [
    {
     "name": "stdout",
     "output_type": "stream",
     "text": [
      "100% [.......................................................................] 272234 / 272234"
     ]
    }
   ],
   "source": [
    "#download images\n",
    "counter = 1\n",
    "for image in images:\n",
    "    save_as = os.path.join(path, hashtag[1:] + str(counter) + '.jpg')\n",
    "    wget.download(image, save_as)\n",
    "    counter += 1"
   ]
  },
  {
   "cell_type": "markdown",
   "id": "28dfc7ae",
   "metadata": {},
   "source": [
    "# Done!\n",
    "\n",
    "**By [Momento](\"https://github.com/ali-moments/\")**"
   ]
  }
 ],
 "metadata": {
  "kernelspec": {
   "display_name": "Python 3 (ipykernel)",
   "language": "python",
   "name": "python3"
  },
  "language_info": {
   "codemirror_mode": {
    "name": "ipython",
    "version": 3
   },
   "file_extension": ".py",
   "mimetype": "text/x-python",
   "name": "python",
   "nbconvert_exporter": "python",
   "pygments_lexer": "ipython3",
   "version": "3.8.10"
  }
 },
 "nbformat": 4,
 "nbformat_minor": 5
}
